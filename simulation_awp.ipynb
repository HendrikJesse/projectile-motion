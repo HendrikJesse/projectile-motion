{
 "cells": [
  {
   "cell_type": "code",
   "execution_count": 28,
   "metadata": {},
   "outputs": [],
   "source": [
    "import numpy as np \n",
    "import matplotlib.pyplot as plt\n",
    "from scipy.optimize import root, newton\n",
    "from matplotlib.widgets import Slider, Button"
   ]
  },
  {
   "cell_type": "code",
   "execution_count": 24,
   "metadata": {},
   "outputs": [],
   "source": [
    "g = 9.81\n",
    "def iter(t, k, v, phi):\n",
    "    return (k*v*np.sin(phi)+g)/k**2 * (1 - np.exp(-k*t)) - g/k * t\n",
    "\n",
    "def iter_ableitung(t, k, v, phi):\n",
    "    return v*np.sin(phi)*np.exp(-k*t) - g/k * (1-np.exp(-k*t))\n",
    "\n",
    "def so_weit_bin_ich_gekommen(t, k, v, phi):\n",
    "    return (v * np.cos(phi)) / k * (1 - np.exp(-k*t))\n",
    "\n",
    "def newton_zweite_NST(phi, k, v, eps):\n",
    "    c = 1 + (v*k*np.sin(phi))/g\n",
    "    t0 = (1/k * np.log(c)) * 2\n",
    "    while True:\n",
    "        t_davor = t0\n",
    "        t0 = t0 - iter(t0, k, v, phi) / iter_ableitung(t0, k, v, phi)\n",
    "        if np.abs(t_davor - t0) < eps:\n",
    "            return t0"
   ]
  },
  {
   "cell_type": "code",
   "execution_count": 45,
   "metadata": {},
   "outputs": [
    {
     "data": {
      "text/plain": [
       "<Figure size 6000x4000 with 0 Axes>"
      ]
     },
     "metadata": {},
     "output_type": "display_data"
    },
    {
     "data": {
      "image/png": "[encoded data removed]",
      "text/plain": [
       "<Figure size 432x288 with 4 Axes>"
      ]
     },
     "metadata": {
      "needs_background": "light"
     },
     "output_type": "display_data"
    }
   ],
   "source": [
    "init_phi = np.pi / 4\n",
    "init_k = 0.1\n",
    "init_v = 100\n",
    "\n",
    "c = 1 + (init_v*init_k*np.sin(init_phi))/g\n",
    "t0 = 1/init_k * np.log(c)\n",
    "t0 += t0 / 2\n",
    "t = np.linspace(0, newton_zweite_NST(init_phi, init_k, init_v, 10**-10), 1000)\n",
    "plt.figure(dpi=1000)\n",
    "\n",
    "fig, ax = plt.subplots()\n",
    "line, = plt.plot(so_weit_bin_ich_gekommen(t, init_k, init_v, init_phi), iter(t, init_k, init_v, init_phi), lw=2)\n",
    "\n",
    "plt.subplots_adjust(left=0.25, bottom=0.25)\n",
    "\n",
    "axair = plt.axes([0.25, 0, 0.65, 0.03])\n",
    "air_slider = Slider(\n",
    "    ax=axair,\n",
    "    label='Drag',\n",
    "    valmin=10**-16,\n",
    "    valmax=100,\n",
    "    valinit=init_k,\n",
    ")\n",
    "\n",
    "axangle = plt.axes([0.25, -0.06, 0.65, 0.03])\n",
    "angle_slider = Slider(\n",
    "    ax=axangle,\n",
    "    label='Angle',\n",
    "    valmin=10**-30,\n",
    "    valmax=np.pi / 2,\n",
    "    valinit=init_phi,\n",
    ")\n",
    "\n",
    "axspeed = plt.axes([0.25, -0.12, 0.65, 0.03])\n",
    "speed_slider = Slider(\n",
    "    ax=axspeed,\n",
    "    label='Speed',\n",
    "    valmin=10**-16,\n",
    "    valmax=10000,\n",
    "    valinit=init_v,\n",
    ")\n",
    "\n",
    "def update(val):\n",
    "    c = 1 + (speed_slider.val*air_slider.val*np.sin(angle_slider.val))/g\n",
    "    t0 = 1/air_slider.val * np.log(c)\n",
    "    t0 += t0 / 2\n",
    "    t = np.linspace(0, newton_zweite_NST(angle_slider.val, air_slider.val, speed_slider.val, 10**-10), 1000)\n",
    "    line.set_xdata(so_weit_bin_ich_gekommen(t, air_slider.val, speed_slider.val, angle_slider.val))\n",
    "    line.set_ydata(iter(t, air_slider.val, speed_slider.val, angle_slider.val))\n",
    "    fig.canvas.draw_idle()\n",
    "\n",
    "\n",
    "air_slider.on_changed(update)\n",
    "speed_slider.on_changed(update)\n",
    "angle_slider.on_changed(update)\n",
    "\n",
    "# plt.plot(so_weit_bin_ich_gekommen(t, init_k, init_v, init_phi), iter(t, init_k, init_v, init_phi))\n",
    "# plt.title('AWP')\n",
    "# plt.xlabel('x')\n",
    "# plt.ylabel('y')\n",
    "# plt.grid(True)\n",
    "plt.show()"
   ]
  }
 ],
 "metadata": {
  "kernelspec": {
   "display_name": "Python 3.9.7 ('base')",
   "language": "python",
   "name": "python3"
  },
  "language_info": {
   "codemirror_mode": {
    "name": "ipython",
    "version": 3
   },
   "file_extension": ".py",
   "mimetype": "text/x-python",
   "name": "python",
   "nbconvert_exporter": "python",
   "pygments_lexer": "ipython3",
   "version": "3.9.7"
  },
  "orig_nbformat": 4,
  "vscode": {
   "interpreter": {
    "hash": "cbb5e3625fc2ebad89e04f01d3da393284c48f84d587c5acd06c7df2c3a4eec5"
   }
  }
 },
 "nbformat": 4,
 "nbformat_minor": 2
}
